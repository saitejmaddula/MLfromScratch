{
  "nbformat": 4,
  "nbformat_minor": 0,
  "metadata": {
    "colab": {
      "name": "LDA",
      "provenance": [],
      "authorship_tag": "ABX9TyN+h4HOrsqar+dH61b0uJHD",
      "include_colab_link": true
    },
    "kernelspec": {
      "name": "python3",
      "display_name": "Python 3"
    }
  },
  "cells": [
    {
      "cell_type": "markdown",
      "metadata": {
        "id": "view-in-github",
        "colab_type": "text"
      },
      "source": [
        "<a href=\"https://colab.research.google.com/github/saitejmaddula/MLfromScratch/blob/master/LDAcolabready.ipynb\" target=\"_parent\"><img src=\"https://colab.research.google.com/assets/colab-badge.svg\" alt=\"Open In Colab\"/></a>"
      ]
    },
    {
      "cell_type": "code",
      "metadata": {
        "id": "p9MetlSPlPbd",
        "colab_type": "code",
        "colab": {
          "base_uri": "https://localhost:8080/",
          "height": 68
        },
        "outputId": "16fdf1d4-0c38-4a5d-e8df-aac4c5af115a"
      },
      "source": [
        "import pandas as pd\n",
        "import numpy as np\n",
        "import math\n",
        "\n",
        "data=pd.read_csv(\"https://raw.githubusercontent.com/saitejmaddula/MLfromScratch/master/mydata.csv\",header=None)\n",
        "\n",
        "X1=data[[0,1]][:4]\n",
        "Y1=data[2][:4]\n",
        "X2=data[[0,1]][4:7]\n",
        "Y2=data[2][4:7]\n",
        "Xmean=data.groupby([2]).mean()\n",
        "\n",
        "X1mean=Xmean[[0,1]][:1]\n",
        "X2mean=Xmean[[0,1]][1:2]\n",
        "\n",
        "X1mean=X1mean.values\n",
        "X2mean=X2mean.values\n",
        "Xmean=np.array([2.88,5.67])\n",
        "\n",
        "X1=X1.values\n",
        "X2=X2.values\n",
        "correctedX1=X1-Xmean\n",
        "correctedX2=X2-Xmean\n",
        "\n",
        "C1=np.dot(np.transpose(correctedX1),correctedX1)/4\n",
        "C2=np.dot(np.transpose(correctedX2),correctedX2)/3\n",
        "\n",
        "C=(4/7)*C1+(3/7)*C2\n",
        "\n",
        "invC=np.linalg.inv(C)\n",
        "print(invC)\n",
        "test=np.array([2.95,6.63])\n",
        "\n",
        "f1=np.dot(np.dot(X2mean,invC),np.transpose(test))-0.5*np.dot(np.dot(X2mean,invC),np.transpose(X2mean))+math.log(4/7)\n",
        "f2=np.dot(np.dot(X1mean,invC),np.transpose(test))-0.5*np.dot(np.dot(X1mean,invC),np.transpose(X1mean))+math.log(3/7)\n",
        "if f1>f2:\n",
        "    print(\"Not Passed\")\n",
        "else:\n",
        "    print(\"passed\")    "
      ],
      "execution_count": 6,
      "outputs": [
        {
          "output_type": "stream",
          "text": [
            "[[5.72872227 0.7815785 ]\n",
            " [0.7815785  0.69757368]]\n",
            "Not Passed\n"
          ],
          "name": "stdout"
        }
      ]
    }
  ]
}